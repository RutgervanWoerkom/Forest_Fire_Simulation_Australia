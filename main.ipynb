{
 "cells": [
  {
   "cell_type": "markdown",
   "metadata": {},
   "source": [
    "# Forest fire simulation using Cellular Automata\n",
    "\n",
    "In this notebook, the forest fire model can be run and their outputs can be saved to local storage. This notebook runs simulations on any pre-set part of the map of Australia. Some parameters of the simulation can be modified within this notebook.\n",
    "\n",
    "The code is dependant on input data, which therefore needs to be present in the correct directories.\n",
    "\n",
    "The input data for wind, rain, temperature, height and vegetation must be in folders with the following paths:\n",
    "\n",
    "<font color=darkgreen>\"datasets/raw/wind\"</font> \\\n",
    "<font color=darkgreen>\"datasets/raw/rain\"</font> \\\n",
    "<font color=darkgreen>\"datasets/raw/temp\"</font> \\\n",
    "<font color=darkgreen>\"datasets/raw/height\"</font> \\\n",
    "<font color=darkgreen>\"datasets/raw/veg\"</font> \\\n",
    "<font color=darkgreen>\"datasets/processed\"</font>\n",
    "\n",
    "To locally save generated data, the correct paths must exist. \n",
    "\n",
    "Generated numpy arrays will be saved to: \\\n",
    "<font color=darkgreen>\"datasets/processed/generated\"</font>\n",
    "\n",
    "Rendered images will be saved to: \\\n",
    "<font color=darkgreen>\"datasets/processed/rendered\"</font>"
   ]
  },
  {
   "cell_type": "markdown",
   "metadata": {},
   "source": [
    "#### Import all necessary code:"
   ]
  },
  {
   "cell_type": "code",
   "execution_count": 1,
   "metadata": {},
   "outputs": [],
   "source": [
    "from src.forest_fire_model import *\n",
    "from src.stats import *"
   ]
  },
  {
   "cell_type": "markdown",
   "metadata": {},
   "source": [
    "#### Run the simulation: (parameters editable)\n",
    "Our simulation was originally run with the following parameters:\n",
    "\n",
    "```python\n",
    "\n",
    "days = 1\n",
    "map_slice = (409, 920, 818, 1279)\n",
    "\n",
    "forest_fire_simulation(days, map_slice=map_slice, \n",
    "                       plot=True, render=True, save_as_array=False, \n",
    "                       p_spread=1, p_orange=.2, p_red=.1, p_black=.1, \n",
    "                       height_weight=1, temp_weight=2, rain_weight=2) \n",
    " ```                      \n",
    "But to see that the simulation actually works while only simulating 1 day, the parameters are modified a bit. (The simulation may still take 5 minutes or so to run!)               \n",
    "\n",
    "Our results after 1 day of forest fire simulation in Australia:\n",
    "<img src=\"docs/result_after_1_day.png\">"
   ]
  },
  {
   "cell_type": "code",
   "execution_count": 2,
   "metadata": {},
   "outputs": [
    {
     "ename": "KeyboardInterrupt",
     "evalue": "",
     "output_type": "error",
     "traceback": [
      "\u001b[0;31m---------------------------------------------------------------------------\u001b[0m",
      "\u001b[0;31mKeyboardInterrupt\u001b[0m                         Traceback (most recent call last)",
      "\u001b[0;32m<ipython-input-2-20a57c7b1297>\u001b[0m in \u001b[0;36m<module>\u001b[0;34m\u001b[0m\n\u001b[1;32m      7\u001b[0m                        \u001b[0mplot\u001b[0m\u001b[0;34m=\u001b[0m\u001b[0;32mTrue\u001b[0m\u001b[0;34m,\u001b[0m \u001b[0mrender\u001b[0m\u001b[0;34m=\u001b[0m\u001b[0;32mTrue\u001b[0m\u001b[0;34m,\u001b[0m \u001b[0msave_as_array\u001b[0m\u001b[0;34m=\u001b[0m\u001b[0;32mFalse\u001b[0m\u001b[0;34m,\u001b[0m\u001b[0;34m\u001b[0m\u001b[0;34m\u001b[0m\u001b[0m\n\u001b[1;32m      8\u001b[0m                        \u001b[0mp_spread\u001b[0m\u001b[0;34m=\u001b[0m\u001b[0;36m1\u001b[0m\u001b[0;34m,\u001b[0m \u001b[0mp_orange\u001b[0m\u001b[0;34m=\u001b[0m\u001b[0;36m.2\u001b[0m\u001b[0;34m,\u001b[0m \u001b[0mp_red\u001b[0m\u001b[0;34m=\u001b[0m\u001b[0;36m.1\u001b[0m\u001b[0;34m,\u001b[0m \u001b[0mp_black\u001b[0m\u001b[0;34m=\u001b[0m\u001b[0;36m.1\u001b[0m\u001b[0;34m,\u001b[0m\u001b[0;34m\u001b[0m\u001b[0;34m\u001b[0m\u001b[0m\n\u001b[0;32m----> 9\u001b[0;31m                        height_weight=1, temp_weight=2, rain_weight=2)\n\u001b[0m",
      "\u001b[0;32m~/Desktop/finalmap/src/forest_fire_model.py\u001b[0m in \u001b[0;36mforest_fire_simulation\u001b[0;34m(days, map_slice, plot, render, save_as_array, p_spread, p_orange, p_red, p_black, height_weight, temp_weight, rain_weight)\u001b[0m\n\u001b[1;32m    506\u001b[0m         \u001b[0;32mfor\u001b[0m \u001b[0mhour\u001b[0m \u001b[0;32min\u001b[0m \u001b[0mrange\u001b[0m\u001b[0;34m(\u001b[0m\u001b[0;36m24\u001b[0m\u001b[0;34m)\u001b[0m\u001b[0;34m:\u001b[0m\u001b[0;34m\u001b[0m\u001b[0;34m\u001b[0m\u001b[0m\n\u001b[1;32m    507\u001b[0m             \u001b[0;32mfor\u001b[0m \u001b[0mminute\u001b[0m \u001b[0;32min\u001b[0m \u001b[0;34m[\u001b[0m\u001b[0;36m0\u001b[0m\u001b[0;34m,\u001b[0m\u001b[0;36m20\u001b[0m\u001b[0;34m,\u001b[0m\u001b[0;36m40\u001b[0m\u001b[0;34m]\u001b[0m\u001b[0;34m:\u001b[0m\u001b[0;34m\u001b[0m\u001b[0;34m\u001b[0m\u001b[0m\n\u001b[0;32m--> 508\u001b[0;31m                 \u001b[0mforest_sim\u001b[0m\u001b[0;34m.\u001b[0m\u001b[0mupdate\u001b[0m\u001b[0;34m(\u001b[0m\u001b[0mday\u001b[0m\u001b[0;34m)\u001b[0m\u001b[0;34m\u001b[0m\u001b[0;34m\u001b[0m\u001b[0m\n\u001b[0m\u001b[1;32m    509\u001b[0m                 \u001b[0mforest_sim\u001b[0m\u001b[0;34m.\u001b[0m\u001b[0mvisualize\u001b[0m\u001b[0;34m(\u001b[0m\u001b[0mday\u001b[0m\u001b[0;34m,\u001b[0m \u001b[0mhour\u001b[0m\u001b[0;34m,\u001b[0m \u001b[0mminute\u001b[0m\u001b[0;34m,\u001b[0m \u001b[0mplot\u001b[0m\u001b[0;34m=\u001b[0m\u001b[0mplot\u001b[0m\u001b[0;34m,\u001b[0m \u001b[0mrender\u001b[0m\u001b[0;34m=\u001b[0m\u001b[0mrender\u001b[0m\u001b[0;34m,\u001b[0m \u001b[0msave_as_array\u001b[0m\u001b[0;34m=\u001b[0m\u001b[0msave_as_array\u001b[0m\u001b[0;34m)\u001b[0m\u001b[0;34m\u001b[0m\u001b[0;34m\u001b[0m\u001b[0m\n\u001b[1;32m    510\u001b[0m \u001b[0;34m\u001b[0m\u001b[0m\n",
      "\u001b[0;32m~/Desktop/finalmap/src/forest_fire_model.py\u001b[0m in \u001b[0;36mupdate\u001b[0;34m(self, day)\u001b[0m\n\u001b[1;32m    160\u001b[0m \u001b[0;34m\u001b[0m\u001b[0m\n\u001b[1;32m    161\u001b[0m                     \u001b[0;31m# if neighbour is on fire\u001b[0m\u001b[0;34m\u001b[0m\u001b[0;34m\u001b[0m\u001b[0;34m\u001b[0m\u001b[0m\n\u001b[0;32m--> 162\u001b[0;31m                     \u001b[0;32mif\u001b[0m \u001b[0;34m(\u001b[0m\u001b[0mx1\u001b[0m\u001b[0;34m,\u001b[0m\u001b[0my1\u001b[0m\u001b[0;34m)\u001b[0m \u001b[0;32min\u001b[0m \u001b[0mcurrent_population\u001b[0m \u001b[0;32mand\u001b[0m \u001b[0mcurrent_population\u001b[0m\u001b[0;34m[\u001b[0m\u001b[0;34m(\u001b[0m\u001b[0mx1\u001b[0m\u001b[0;34m,\u001b[0m\u001b[0my1\u001b[0m\u001b[0;34m)\u001b[0m\u001b[0;34m]\u001b[0m\u001b[0;34m.\u001b[0m\u001b[0mstatus\u001b[0m \u001b[0;34m==\u001b[0m \u001b[0;36m0\u001b[0m\u001b[0;34m:\u001b[0m\u001b[0;34m\u001b[0m\u001b[0;34m\u001b[0m\u001b[0m\n\u001b[0m\u001b[1;32m    163\u001b[0m                         \u001b[0mneighbour\u001b[0m \u001b[0;34m=\u001b[0m \u001b[0mcurrent_population\u001b[0m\u001b[0;34m[\u001b[0m\u001b[0;34m(\u001b[0m\u001b[0mx1\u001b[0m\u001b[0;34m,\u001b[0m\u001b[0my1\u001b[0m\u001b[0;34m)\u001b[0m\u001b[0;34m]\u001b[0m\u001b[0;34m\u001b[0m\u001b[0;34m\u001b[0m\u001b[0m\n\u001b[1;32m    164\u001b[0m \u001b[0;34m\u001b[0m\u001b[0m\n",
      "\u001b[0;31mKeyboardInterrupt\u001b[0m: "
     ]
    }
   ],
   "source": [
    "days = 1\n",
    "\n",
    "# selecting only part of Australia\n",
    "map_slice = (409, 920, 818, 1279)\n",
    "\n",
    "forest_fire_simulation(days, map_slice=map_slice, \n",
    "                       plot=True, render=True, save_as_array=False, \n",
    "                       p_spread=1, p_orange=.2, p_red=.1, p_black=.1, \n",
    "                       height_weight=1, temp_weight=2, rain_weight=2)"
   ]
  },
  {
   "cell_type": "markdown",
   "metadata": {},
   "source": [
    "#### Render generated images to video:"
   ]
  },
  {
   "cell_type": "code",
   "execution_count": 3,
   "metadata": {},
   "outputs": [],
   "source": [
    "input_path = 'datasets/rendered/*.png'\n",
    "outputname =  f\"forest_fire_{days}_days.mp4\"\n",
    "framerate = 10\n",
    "\n",
    "renderToVideo(input_path, outputname, framerate)"
   ]
  },
  {
   "cell_type": "markdown",
   "metadata": {},
   "source": [
    "#### Compare resuts to validation data:\n",
    "At least 2 days of generated data is required, preferably more."
   ]
  },
  {
   "cell_type": "code",
   "execution_count": 4,
   "metadata": {},
   "outputs": [
    {
     "data": {
      "image/png": "[encoded data removed]",
      "text/plain": [
       "<Figure size 432x288 with 1 Axes>"
      ]
     },
     "metadata": {
      "needs_background": "light"
     },
     "output_type": "display_data"
    }
   ],
   "source": [
    "plot_percentage_burned()"
   ]
  }
 ],
 "metadata": {
  "kernelspec": {
   "display_name": "Python 3",
   "language": "python",
   "name": "python3"
  },
  "language_info": {
   "codemirror_mode": {
    "name": "ipython",
    "version": 3
   },
   "file_extension": ".py",
   "mimetype": "text/x-python",
   "name": "python",
   "nbconvert_exporter": "python",
   "pygments_lexer": "ipython3",
   "version": "3.7.3"
  }
 },
 "nbformat": 4,
 "nbformat_minor": 2
}
